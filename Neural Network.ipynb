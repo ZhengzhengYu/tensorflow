{
 "cells": [
  {
   "cell_type": "markdown",
   "metadata": {},
   "source": [
    "# Neural Network"
   ]
  },
  {
   "cell_type": "markdown",
   "metadata": {},
   "source": [
    "## Neural Network For Continuous Input\n",
    "\n",
    "\n",
    "* Load CSV Iris dataset\n",
    "* Construct Neural Network Classifier\n",
    "* Fit the model with the trainning data\n",
    "* Evaluate the accuracy of the model"
   ]
  },
  {
   "cell_type": "markdown",
   "metadata": {},
   "source": [
    "## Load the iris CSV data to TensorFlow\n",
    "\n",
    "Iris data set contains 150 rows of data, comprising 50 samples from each of three related Iris species: Iris setosa, Iris virginica, and Iris versicolor."
   ]
  },
  {
   "cell_type": "code",
   "execution_count": 141,
   "metadata": {
    "collapsed": false
   },
   "outputs": [],
   "source": [
    "from six.moves import urllib\n",
    "import os\n",
    "\n",
    "def download_file_from_url(source_url, dest_path):\n",
    "    # Create directory if not already existed\n",
    "    path_folder = '/'.join(dest_path.split('/')[:-1])\n",
    "    if not os.path.exists(path_folder):\n",
    "        os.mkdir(path_folder)\n",
    "        print (\"Making path_folder: %s\" % path_folder)\n",
    "    urllib.request.urlretrieve(source_url, dest_path)\n"
   ]
  },
  {
   "cell_type": "code",
   "execution_count": 143,
   "metadata": {
    "collapsed": false
   },
   "outputs": [
    {
     "name": "stdout",
     "output_type": "stream",
     "text": [
      "Making path_folder: /tmp/workspace/continuous-dnn\n"
     ]
    }
   ],
   "source": [
    "iris_data_path = \"/tmp/workspace/continuous-dnn/iris.data\"\n",
    "iris_data_source_url = \"https://archive.ics.uci.edu/ml/machine-learning-databases/iris/iris.data\"\n",
    "\n",
    "download_file_from_url(iris_data_source_url, iris_data_path)"
   ]
  },
  {
   "cell_type": "code",
   "execution_count": 195,
   "metadata": {
    "collapsed": true
   },
   "outputs": [],
   "source": [
    "import tensorflow as tf\n",
    "IRIS_COLUMNS = [\"sepal_length\", \"sepal_width\", \"petal_length\", \"petal_width\", \"species\"]\n",
    "\n",
    "IRIS_CONTINUOUS_COLUMNS = [\"sepal_length\", \"sepal_width\", \"petal_length\", \"petal_width\"]\n",
    "\n",
    "IRIS_LABEL_COLUMN = 'species'"
   ]
  },
  {
   "cell_type": "markdown",
   "metadata": {},
   "source": [
    "### Data exploration"
   ]
  },
  {
   "cell_type": "code",
   "execution_count": 196,
   "metadata": {
    "collapsed": true
   },
   "outputs": [],
   "source": [
    "import pandas as pd\n",
    "\n",
    "def read_csv_with_column(csv_file_path, column_names):\n",
    "    return pd.read_csv(csv_file_path, names=column_names, skipinitialspace=True)"
   ]
  },
  {
   "cell_type": "code",
   "execution_count": 328,
   "metadata": {
    "collapsed": false
   },
   "outputs": [],
   "source": [
    "df_iris_data = read_csv_with_column(train_data_path, IRIS_COLUMNS)"
   ]
  },
  {
   "cell_type": "markdown",
   "metadata": {},
   "source": [
    "## Convert labels to different int values\n",
    "\n",
    "Since classifier can only work with int32/int64, we need to convert the training and testing lable data"
   ]
  },
  {
   "cell_type": "code",
   "execution_count": 327,
   "metadata": {
    "collapsed": true
   },
   "outputs": [],
   "source": [
    "# Convert categorical data to real values with pandas.Categorical\n",
    "def convert_categorical_nomial(df, column_name):\n",
    "    return pd.to_numeric(pd.Categorical.from_array(df[column_name]).codes)"
   ]
  },
  {
   "cell_type": "code",
   "execution_count": 329,
   "metadata": {
    "collapsed": false
   },
   "outputs": [],
   "source": [
    "# Convert the caregorical column to int values\n",
    "df_iris_data[IRIS_LABEL_COLUMN] = convert_categorical_nomial(df_iris_data, IRIS_LABEL_COLUMN)"
   ]
  },
  {
   "cell_type": "code",
   "execution_count": 334,
   "metadata": {
    "collapsed": false
   },
   "outputs": [],
   "source": [
    "# the above computation equals the following\n",
    "# df_iris_data[IRIS_LABEL_COLUMN] = df_data[\"species\"].apply(lambda x : 0 if 'Iris-setosa' in x else (1 if 'Iris-virginica' in x else 2))\n"
   ]
  },
  {
   "cell_type": "code",
   "execution_count": 335,
   "metadata": {
    "collapsed": false
   },
   "outputs": [
    {
     "data": {
      "image/png": "[encoded data removed]",
      "text/plain": [
       "<matplotlib.figure.Figure at 0x12354cfd0>"
      ]
     },
     "metadata": {},
     "output_type": "display_data"
    }
   ],
   "source": [
    "# enable pylab mode in ipython notebook as pylab has been deprecated\n",
    "%matplotlib inline\n",
    "def group_n_plot_by_label(df, label_column):\n",
    "    df.groupby(label_column).size().plot(kind=\"bar\")\n",
    "    \n",
    "group_n_plot_by_label(df_iris_data, IRIS_LABEL_COLUMN)"
   ]
  },
  {
   "cell_type": "code",
   "execution_count": 336,
   "metadata": {
    "collapsed": false
   },
   "outputs": [],
   "source": [
    "# Divid data into testing data and \n",
    "def split_data(df, sample_rate, random_state=15):\n",
    "    df_train = df.sample(frac=0.8, random_state=random_state)\n",
    "    df_test = df.drop(df_train.index)\n",
    "    return df_train, df_test\n",
    "\n",
    "# Verify that the train data and test data are evenly sampled\n",
    "def plot_train_test_data(df_train, df_test, label_column):\n",
    "    group_n_plot_by_label(df_train, label_column)\n",
    "    group_n_plot_by_label(df_test, label_column)"
   ]
  },
  {
   "cell_type": "code",
   "execution_count": 337,
   "metadata": {
    "collapsed": false
   },
   "outputs": [
    {
     "data": {
      "image/png": "[encoded data removed]",
      "text/plain": [
       "<matplotlib.figure.Figure at 0x1259ce090>"
      ]
     },
     "metadata": {},
     "output_type": "display_data"
    }
   ],
   "source": [
    "df_iris_train, df_iris_test = split_data(df_iris_data, 0.8)\n",
    "\n",
    "plot_train_test_data(df_iris_train, df_iris_test, IRIS_LABEL_COLUMN)"
   ]
  },
  {
   "cell_type": "markdown",
   "metadata": {},
   "source": [
    "## Convert data to tensor\n",
    "Since all input are continuous input, use tf.constant is a good choice"
   ]
  },
  {
   "cell_type": "code",
   "execution_count": 338,
   "metadata": {
    "collapsed": false
   },
   "outputs": [],
   "source": [
    "def input_fn(df, continuous_columns, label_column):\n",
    "    feature_cols = {k : tf.constant(df[k].values) for k in continuous_columns}                        \n",
    "    label = tf.constant(df[label_column].values)\n",
    "    return feature_cols, label"
   ]
  },
  {
   "cell_type": "code",
   "execution_count": 339,
   "metadata": {
    "collapsed": true
   },
   "outputs": [],
   "source": [
    "def iris_train_input_fn():\n",
    "    return input_fn(df_iris_train, IRIS_CONTINUOUS_COLUMNS, IRIS_LABEL_COLUMN)\n",
    "\n",
    "def iris_test_input_fn():\n",
    "    return input_fn(df_iris_test, IRIS_CONTINUOUS_COLUMNS, IRIS_LABEL_COLUMN)"
   ]
  },
  {
   "cell_type": "markdown",
   "metadata": {},
   "source": [
    "## Create feature columns\n",
    "We replaced the 'class' column with 'label' column, so all of them a real valued features: \n",
    "* real_valued_column"
   ]
  },
  {
   "cell_type": "code",
   "execution_count": 322,
   "metadata": {
    "collapsed": true
   },
   "outputs": [],
   "source": [
    "# \"sepal_length\", \"sepal_width\", \"petal_length\", \"petal_width\"\n",
    "def create_feature_columns(feature_columns_names):\n",
    "    feature_columns = []\n",
    "    for feature_name in feature_columns_names:\n",
    "        feature = tf.contrib.layers.real_valued_column(feature_name)\n",
    "        feature_columns.append(feature)\n",
    "    return feature_columns"
   ]
  },
  {
   "cell_type": "code",
   "execution_count": 323,
   "metadata": {
    "collapsed": true
   },
   "outputs": [],
   "source": [
    "iris_feature_column = create_feature_columns(IRIS_CONTINUOUS_COLUMNS)"
   ]
  },
  {
   "cell_type": "markdown",
   "metadata": {},
   "source": [
    "## Create DNN Model\n",
    "* DNNClassifier\n",
    "* feature_columns = feature_columns\n",
    "* hidden_units = [10, 20, 10], three hidden layers, containing 10, 20, and 10 neurons.\n",
    "* n_classes=3, Three target classes, representing the three iris species\n",
    "* model_model Tensorflow use it to save check point data during model trainning."
   ]
  },
  {
   "cell_type": "code",
   "execution_count": 340,
   "metadata": {
    "collapsed": false
   },
   "outputs": [
    {
     "name": "stdout",
     "output_type": "stream",
     "text": [
      "INFO:tensorflow:Using default config.\n",
      "INFO:tensorflow:Using config: {'_save_checkpoints_secs': 600, '_num_ps_replicas': 0, '_keep_checkpoint_max': 5, '_tf_random_seed': None, '_task_type': None, '_environment': 'local', '_is_chief': True, '_cluster_spec': <tensorflow.python.training.server_lib.ClusterSpec object at 0x125b91050>, '_tf_config': gpu_options {\n",
      "  per_process_gpu_memory_fraction: 1\n",
      "}\n",
      ", '_task_id': 0, '_save_summary_steps': 100, '_save_checkpoints_steps': None, '_evaluation_master': '', '_keep_checkpoint_every_n_hours': 10000, '_master': ''}\n"
     ]
    }
   ],
   "source": [
    "model_dir = \"/tmp/workspace/continuous-dnn/\"\n",
    "iris_classifier = tf.contrib.learn.DNNClassifier(feature_columns=iris_feature_column,\n",
    "                                            hidden_units=[10, 20, 10],\n",
    "                                            n_classes=3,\n",
    "                                            model_dir=model_dir)"
   ]
  },
  {
   "cell_type": "markdown",
   "metadata": {},
   "source": [
    "## Fit the DNNClassifier to the iris training data"
   ]
  },
  {
   "cell_type": "code",
   "execution_count": 341,
   "metadata": {
    "collapsed": false
   },
   "outputs": [
    {
     "name": "stdout",
     "output_type": "stream",
     "text": [
      "WARNING:tensorflow:Rank of input Tensor (1) should be the same as output_rank (2) for column. Will attempt to expand dims. It is highly recommended that you resize your input, as this behavior may change.\n",
      "WARNING:tensorflow:Rank of input Tensor (1) should be the same as output_rank (2) for column. Will attempt to expand dims. It is highly recommended that you resize your input, as this behavior may change.\n",
      "WARNING:tensorflow:Rank of input Tensor (1) should be the same as output_rank (2) for column. Will attempt to expand dims. It is highly recommended that you resize your input, as this behavior may change.\n",
      "WARNING:tensorflow:Rank of input Tensor (1) should be the same as output_rank (2) for column. Will attempt to expand dims. It is highly recommended that you resize your input, as this behavior may change.\n",
      "WARNING:tensorflow:From /Users/xozhang/Library/Enthought/Canopy_64bit/User/lib/python2.7/site-packages/tensorflow/contrib/learn/python/learn/estimators/head.py:1362: scalar_summary (from tensorflow.python.ops.logging_ops) is deprecated and will be removed after 2016-11-30.\n",
      "Instructions for updating:\n",
      "Please switch to tf.summary.scalar. Note that tf.summary.scalar uses the node name instead of the tag. This means that TensorFlow will automatically de-duplicate summary names based on the scope they are created in. Also, passing a tensor or list of tags to a scalar summary op is no longer supported.\n",
      "INFO:tensorflow:Create CheckpointSaverHook.\n",
      "INFO:tensorflow:Saving checkpoints for 6001 into /tmp/workspace/continuous-dnn/model.ckpt.\n",
      "INFO:tensorflow:loss = 7.81006, step = 6001\n",
      "INFO:tensorflow:global_step/sec: 800.614\n",
      "INFO:tensorflow:loss = 0.0777194, step = 6101\n",
      "INFO:tensorflow:global_step/sec: 727.728\n",
      "INFO:tensorflow:loss = 0.0605825, step = 6201\n",
      "INFO:tensorflow:global_step/sec: 690.327\n",
      "INFO:tensorflow:loss = 0.0542215, step = 6301\n",
      "INFO:tensorflow:global_step/sec: 696.563\n",
      "INFO:tensorflow:loss = 0.0505909, step = 6401\n",
      "INFO:tensorflow:global_step/sec: 832.896\n",
      "INFO:tensorflow:loss = 0.0481317, step = 6501\n",
      "INFO:tensorflow:global_step/sec: 737.883\n",
      "INFO:tensorflow:loss = 0.0462774, step = 6601\n",
      "INFO:tensorflow:global_step/sec: 545.589\n",
      "INFO:tensorflow:loss = 0.0449129, step = 6701\n",
      "INFO:tensorflow:global_step/sec: 752.582\n",
      "INFO:tensorflow:loss = 0.0434973, step = 6801\n",
      "INFO:tensorflow:global_step/sec: 778.992\n",
      "INFO:tensorflow:loss = 0.0423911, step = 6901\n",
      "INFO:tensorflow:global_step/sec: 742.009\n",
      "INFO:tensorflow:loss = 0.0414055, step = 7001\n",
      "INFO:tensorflow:global_step/sec: 705.095\n",
      "INFO:tensorflow:loss = 0.04061, step = 7101\n",
      "INFO:tensorflow:global_step/sec: 752.265\n",
      "INFO:tensorflow:loss = 0.0397081, step = 7201\n",
      "INFO:tensorflow:global_step/sec: 729.145\n",
      "INFO:tensorflow:loss = 0.039451, step = 7301\n",
      "INFO:tensorflow:global_step/sec: 661.928\n",
      "INFO:tensorflow:loss = 0.0382674, step = 7401\n",
      "INFO:tensorflow:global_step/sec: 698.016\n",
      "INFO:tensorflow:loss = 0.0380904, step = 7501\n",
      "INFO:tensorflow:global_step/sec: 593.229\n",
      "INFO:tensorflow:loss = 0.0370452, step = 7601\n",
      "INFO:tensorflow:global_step/sec: 650.115\n",
      "INFO:tensorflow:loss = 0.0366884, step = 7701\n",
      "INFO:tensorflow:global_step/sec: 569.856\n",
      "INFO:tensorflow:loss = 0.0359754, step = 7801\n",
      "INFO:tensorflow:global_step/sec: 726.76\n",
      "INFO:tensorflow:loss = 0.0354981, step = 7901\n",
      "INFO:tensorflow:Saving checkpoints for 8000 into /tmp/workspace/continuous-dnn/model.ckpt.\n",
      "INFO:tensorflow:Loss for final step: 0.0349211.\n"
     ]
    },
    {
     "data": {
      "text/plain": [
       "DNNClassifier(params={'head': <tensorflow.contrib.learn.python.learn.estimators.head._MultiClassHead object at 0x125b91110>, 'hidden_units': [10, 20, 10], 'feature_columns': (_RealValuedColumn(column_name='sepal_length', dimension=1, default_value=None, dtype=tf.float32, normalizer=None), _RealValuedColumn(column_name='sepal_width', dimension=1, default_value=None, dtype=tf.float32, normalizer=None), _RealValuedColumn(column_name='petal_length', dimension=1, default_value=None, dtype=tf.float32, normalizer=None), _RealValuedColumn(column_name='petal_width', dimension=1, default_value=None, dtype=tf.float32, normalizer=None)), 'embedding_lr_multipliers': None, 'optimizer': None, 'dropout': None, 'gradient_clip_norm': None, 'activation_fn': <function relu at 0x10b9199b0>, 'input_layer_min_slice_size': None})"
      ]
     },
     "execution_count": 341,
     "metadata": {},
     "output_type": "execute_result"
    }
   ],
   "source": [
    "iris_classifier.fit(input_fn=iris_train_input_fn, steps = 2000)"
   ]
  },
  {
   "cell_type": "markdown",
   "metadata": {},
   "source": [
    "### Evaluate the model accuracy\n",
    "\n",
    "Evaluate the accuracy of the function with test input\n"
   ]
  },
  {
   "cell_type": "code",
   "execution_count": 174,
   "metadata": {
    "collapsed": false
   },
   "outputs": [
    {
     "name": "stdout",
     "output_type": "stream",
     "text": [
      "WARNING:tensorflow:Rank of input Tensor (1) should be the same as output_rank (2) for column. Will attempt to expand dims. It is highly recommended that you resize your input, as this behavior may change.\n",
      "WARNING:tensorflow:Rank of input Tensor (1) should be the same as output_rank (2) for column. Will attempt to expand dims. It is highly recommended that you resize your input, as this behavior may change.\n",
      "WARNING:tensorflow:Rank of input Tensor (1) should be the same as output_rank (2) for column. Will attempt to expand dims. It is highly recommended that you resize your input, as this behavior may change.\n",
      "WARNING:tensorflow:Rank of input Tensor (1) should be the same as output_rank (2) for column. Will attempt to expand dims. It is highly recommended that you resize your input, as this behavior may change.\n",
      "WARNING:tensorflow:From /Users/xozhang/Library/Enthought/Canopy_64bit/User/lib/python2.7/site-packages/tensorflow/contrib/learn/python/learn/estimators/head.py:1362: scalar_summary (from tensorflow.python.ops.logging_ops) is deprecated and will be removed after 2016-11-30.\n",
      "Instructions for updating:\n",
      "Please switch to tf.summary.scalar. Note that tf.summary.scalar uses the node name instead of the tag. This means that TensorFlow will automatically de-duplicate summary names based on the scope they are created in. Also, passing a tensor or list of tags to a scalar summary op is no longer supported.\n",
      "INFO:tensorflow:Starting evaluation at 2017-03-28-07:05:44\n",
      "INFO:tensorflow:Evaluation [1/1]\n",
      "INFO:tensorflow:Finished evaluation at 2017-03-28-07:05:44\n",
      "INFO:tensorflow:Saving dict for global step 4200: accuracy = 0.966667, auc = 0.998333, global_step = 4200, loss = 0.113523\n",
      "WARNING:tensorflow:Skipping summary for global_step, must be a float or np.float32.\n"
     ]
    }
   ],
   "source": [
    "iris_results = classifier.evaluate(input_fn=test_input_fn, steps=1)"
   ]
  },
  {
   "cell_type": "code",
   "execution_count": 251,
   "metadata": {
    "collapsed": false
   },
   "outputs": [
    {
     "data": {
      "text/plain": [
       "{'accuracy': 0.96666664,\n",
       " 'auc': 0.99833333,\n",
       " 'global_step': 4200,\n",
       " 'loss': 0.1135229}"
      ]
     },
     "execution_count": 251,
     "metadata": {},
     "output_type": "execute_result"
    }
   ],
   "source": [
    "iris_results"
   ]
  },
  {
   "cell_type": "markdown",
   "metadata": {},
   "source": [
    "# Neural Netowrk With Categorical Input\n",
    "\n",
    "* Load Car Evaluation Data set: http://archive.ics.uci.edu/ml/datasets/Car+Evaluation\n",
    "* Load CSV Data\n",
    "* Constructy Neural Network Classifier\n",
    "* Fit the model with the trainning data\n",
    "* Evaluate the accuracy of the model"
   ]
  },
  {
   "cell_type": "code",
   "execution_count": 304,
   "metadata": {
    "collapsed": false
   },
   "outputs": [],
   "source": [
    "car_data_path = \"/tmp/workspace/categorical-dnn/car.data\"\n",
    "car_data_source_url = \"http://archive.ics.uci.edu/ml/machine-learning-databases/car/car.data\"\n",
    "\n",
    "download_file_from_url(car_data_source_url, car_data_path)"
   ]
  },
  {
   "cell_type": "markdown",
   "metadata": {},
   "source": [
    "### Load car CSV data"
   ]
  },
  {
   "cell_type": "code",
   "execution_count": 313,
   "metadata": {
    "collapsed": true
   },
   "outputs": [],
   "source": [
    "CAR_COLUMNS = ['buying', 'maint', 'doors', 'persons', 'lug_boot', 'safety', 'classes']\n",
    "\n",
    "CAR_CATEGORICAL_COLUMN = ['buying', 'maint', 'doors', 'persons', 'lug_boot', 'safety']\n",
    "\n",
    "CAR_LABEL_COLUMN = 'classes'\n",
    "\n",
    "df_car_data = read_csv_with_column(car_data_path, CAR_COLUMNS)"
   ]
  },
  {
   "cell_type": "markdown",
   "metadata": {},
   "source": [
    "### Covnert categorical data to int values"
   ]
  },
  {
   "cell_type": "code",
   "execution_count": 342,
   "metadata": {
    "collapsed": true
   },
   "outputs": [],
   "source": [
    "def convert_categorical_columns_nomial(df, categorical_columns):\n",
    "    for column_name in categorical_columns:\n",
    "        df[column_name] = convert_categorical_nomial(df, column_name)"
   ]
  },
  {
   "cell_type": "code",
   "execution_count": 343,
   "metadata": {
    "collapsed": true
   },
   "outputs": [],
   "source": [
    "convert_categorical_columns_nomial(df_car_data, CAR_COLUMNS)"
   ]
  },
  {
   "cell_type": "markdown",
   "metadata": {},
   "source": [
    "### Split car data into trainning and testing"
   ]
  },
  {
   "cell_type": "code",
   "execution_count": 345,
   "metadata": {
    "collapsed": false
   },
   "outputs": [
    {
     "data": {
      "image/png": "[encoded data removed]",
      "text/plain": [
       "<matplotlib.figure.Figure at 0x125b89fd0>"
      ]
     },
     "metadata": {},
     "output_type": "display_data"
    }
   ],
   "source": [
    "df_car_train, df_car_test = split_data(df_car_data, 0.8, random_state=20)\n",
    "\n",
    "plot_train_test_data(df_car_train, df_car_test, CAR_LABEL_COLUMN)"
   ]
  },
  {
   "cell_type": "markdown",
   "metadata": {},
   "source": [
    "### def input functions\n",
    "\n",
    "Convert data to tensor"
   ]
  },
  {
   "cell_type": "code",
   "execution_count": 346,
   "metadata": {
    "collapsed": true
   },
   "outputs": [],
   "source": [
    "def car_train_input_fn():\n",
    "    return input_fn(df_car_train, CAR_CATEGORICAL_COLUMN, CAR_LABEL_COLUMN)\n",
    "\n",
    "def car_test_input_fn():\n",
    "    return input_fn(df_car_test, CAR_CATEGORICAL_COLUMN, CAR_LABEL_COLUMN)"
   ]
  },
  {
   "cell_type": "markdown",
   "metadata": {},
   "source": [
    "### Create Feature Columns"
   ]
  },
  {
   "cell_type": "code",
   "execution_count": 347,
   "metadata": {
    "collapsed": true
   },
   "outputs": [],
   "source": [
    "car_feature_columns = create_feature_columns(CAR_CATEGORICAL_COLUMN)"
   ]
  },
  {
   "cell_type": "code",
   "execution_count": 348,
   "metadata": {
    "collapsed": false
   },
   "outputs": [
    {
     "name": "stdout",
     "output_type": "stream",
     "text": [
      "INFO:tensorflow:Using default config.\n",
      "INFO:tensorflow:Using config: {'_save_checkpoints_secs': 600, '_num_ps_replicas': 0, '_keep_checkpoint_max': 5, '_tf_random_seed': None, '_task_type': None, '_environment': 'local', '_is_chief': True, '_cluster_spec': <tensorflow.python.training.server_lib.ClusterSpec object at 0x123528a10>, '_tf_config': gpu_options {\n",
      "  per_process_gpu_memory_fraction: 1\n",
      "}\n",
      ", '_task_id': 0, '_save_summary_steps': 100, '_save_checkpoints_steps': None, '_evaluation_master': '', '_keep_checkpoint_every_n_hours': 10000, '_master': ''}\n"
     ]
    }
   ],
   "source": [
    "model_dir = \"/tmp/workspace/categorical-dnn/\"\n",
    "car_classifier = tf.contrib.learn.DNNClassifier(feature_columns=car_feature_columns,\n",
    "                                            hidden_units=[10, 20, 10],\n",
    "                                            n_classes=4,\n",
    "                                            model_dir=model_dir)"
   ]
  },
  {
   "cell_type": "code",
   "execution_count": 349,
   "metadata": {
    "collapsed": false
   },
   "outputs": [
    {
     "name": "stdout",
     "output_type": "stream",
     "text": [
      "WARNING:tensorflow:Rank of input Tensor (1) should be the same as output_rank (2) for column. Will attempt to expand dims. It is highly recommended that you resize your input, as this behavior may change.\n",
      "WARNING:tensorflow:Rank of input Tensor (1) should be the same as output_rank (2) for column. Will attempt to expand dims. It is highly recommended that you resize your input, as this behavior may change.\n",
      "WARNING:tensorflow:Rank of input Tensor (1) should be the same as output_rank (2) for column. Will attempt to expand dims. It is highly recommended that you resize your input, as this behavior may change.\n",
      "WARNING:tensorflow:Rank of input Tensor (1) should be the same as output_rank (2) for column. Will attempt to expand dims. It is highly recommended that you resize your input, as this behavior may change.\n",
      "WARNING:tensorflow:Rank of input Tensor (1) should be the same as output_rank (2) for column. Will attempt to expand dims. It is highly recommended that you resize your input, as this behavior may change.\n",
      "WARNING:tensorflow:Rank of input Tensor (1) should be the same as output_rank (2) for column. Will attempt to expand dims. It is highly recommended that you resize your input, as this behavior may change.\n",
      "WARNING:tensorflow:From /Users/xozhang/Library/Enthought/Canopy_64bit/User/lib/python2.7/site-packages/tensorflow/contrib/learn/python/learn/estimators/head.py:1362: scalar_summary (from tensorflow.python.ops.logging_ops) is deprecated and will be removed after 2016-11-30.\n",
      "Instructions for updating:\n",
      "Please switch to tf.summary.scalar. Note that tf.summary.scalar uses the node name instead of the tag. This means that TensorFlow will automatically de-duplicate summary names based on the scope they are created in. Also, passing a tensor or list of tags to a scalar summary op is no longer supported.\n",
      "INFO:tensorflow:Create CheckpointSaverHook.\n",
      "INFO:tensorflow:Saving checkpoints for 1 into /tmp/workspace/categorical-dnn/model.ckpt.\n",
      "INFO:tensorflow:loss = 1.55783, step = 1\n",
      "INFO:tensorflow:global_step/sec: 386.275\n",
      "INFO:tensorflow:loss = 0.684059, step = 101\n",
      "INFO:tensorflow:global_step/sec: 412.086\n",
      "INFO:tensorflow:loss = 0.62062, step = 201\n",
      "INFO:tensorflow:global_step/sec: 447.627\n",
      "INFO:tensorflow:loss = 0.579463, step = 301\n",
      "INFO:tensorflow:global_step/sec: 458.88\n",
      "INFO:tensorflow:loss = 0.511961, step = 401\n",
      "INFO:tensorflow:global_step/sec: 435.893\n",
      "INFO:tensorflow:loss = 0.426289, step = 501\n",
      "INFO:tensorflow:global_step/sec: 421.75\n",
      "INFO:tensorflow:loss = 0.369106, step = 601\n",
      "INFO:tensorflow:global_step/sec: 420.774\n",
      "INFO:tensorflow:loss = 0.325434, step = 701\n",
      "INFO:tensorflow:global_step/sec: 449.659\n",
      "INFO:tensorflow:loss = 0.293356, step = 801\n",
      "INFO:tensorflow:global_step/sec: 444.729\n",
      "INFO:tensorflow:loss = 0.260331, step = 901\n",
      "INFO:tensorflow:global_step/sec: 424.468\n",
      "INFO:tensorflow:loss = 0.235651, step = 1001\n",
      "INFO:tensorflow:global_step/sec: 456.798\n",
      "INFO:tensorflow:loss = 0.204259, step = 1101\n",
      "INFO:tensorflow:global_step/sec: 441.334\n",
      "INFO:tensorflow:loss = 0.183843, step = 1201\n",
      "INFO:tensorflow:global_step/sec: 432.229\n",
      "INFO:tensorflow:loss = 0.157291, step = 1301\n",
      "INFO:tensorflow:global_step/sec: 451.249\n",
      "INFO:tensorflow:loss = 0.144161, step = 1401\n",
      "INFO:tensorflow:global_step/sec: 485.991\n",
      "INFO:tensorflow:loss = 0.133065, step = 1501\n",
      "INFO:tensorflow:global_step/sec: 443.009\n",
      "INFO:tensorflow:loss = 0.123993, step = 1601\n",
      "INFO:tensorflow:global_step/sec: 445.569\n",
      "INFO:tensorflow:loss = 0.115847, step = 1701\n",
      "INFO:tensorflow:global_step/sec: 343.731\n",
      "INFO:tensorflow:loss = 0.110578, step = 1801\n",
      "INFO:tensorflow:global_step/sec: 409.611\n",
      "INFO:tensorflow:loss = 0.104435, step = 1901\n",
      "INFO:tensorflow:Saving checkpoints for 2000 into /tmp/workspace/categorical-dnn/model.ckpt.\n",
      "INFO:tensorflow:Loss for final step: 0.100043.\n"
     ]
    },
    {
     "data": {
      "text/plain": [
       "DNNClassifier(params={'head': <tensorflow.contrib.learn.python.learn.estimators.head._MultiClassHead object at 0x1235288d0>, 'hidden_units': [10, 20, 10], 'feature_columns': (_RealValuedColumn(column_name='buying', dimension=1, default_value=None, dtype=tf.float32, normalizer=None), _RealValuedColumn(column_name='maint', dimension=1, default_value=None, dtype=tf.float32, normalizer=None), _RealValuedColumn(column_name='doors', dimension=1, default_value=None, dtype=tf.float32, normalizer=None), _RealValuedColumn(column_name='persons', dimension=1, default_value=None, dtype=tf.float32, normalizer=None), _RealValuedColumn(column_name='lug_boot', dimension=1, default_value=None, dtype=tf.float32, normalizer=None), _RealValuedColumn(column_name='safety', dimension=1, default_value=None, dtype=tf.float32, normalizer=None)), 'embedding_lr_multipliers': None, 'optimizer': None, 'dropout': None, 'gradient_clip_norm': None, 'activation_fn': <function relu at 0x10b9199b0>, 'input_layer_min_slice_size': None})"
      ]
     },
     "execution_count": 349,
     "metadata": {},
     "output_type": "execute_result"
    }
   ],
   "source": [
    "car_classifier.fit(input_fn=car_train_input_fn, steps = 2000)"
   ]
  },
  {
   "cell_type": "markdown",
   "metadata": {},
   "source": [
    "### Evaluate the results"
   ]
  },
  {
   "cell_type": "code",
   "execution_count": 351,
   "metadata": {
    "collapsed": false
   },
   "outputs": [
    {
     "name": "stdout",
     "output_type": "stream",
     "text": [
      "WARNING:tensorflow:Rank of input Tensor (1) should be the same as output_rank (2) for column. Will attempt to expand dims. It is highly recommended that you resize your input, as this behavior may change.\n",
      "WARNING:tensorflow:Rank of input Tensor (1) should be the same as output_rank (2) for column. Will attempt to expand dims. It is highly recommended that you resize your input, as this behavior may change.\n",
      "WARNING:tensorflow:Rank of input Tensor (1) should be the same as output_rank (2) for column. Will attempt to expand dims. It is highly recommended that you resize your input, as this behavior may change.\n",
      "WARNING:tensorflow:Rank of input Tensor (1) should be the same as output_rank (2) for column. Will attempt to expand dims. It is highly recommended that you resize your input, as this behavior may change.\n",
      "WARNING:tensorflow:Rank of input Tensor (1) should be the same as output_rank (2) for column. Will attempt to expand dims. It is highly recommended that you resize your input, as this behavior may change.\n",
      "WARNING:tensorflow:Rank of input Tensor (1) should be the same as output_rank (2) for column. Will attempt to expand dims. It is highly recommended that you resize your input, as this behavior may change.\n",
      "WARNING:tensorflow:From /Users/xozhang/Library/Enthought/Canopy_64bit/User/lib/python2.7/site-packages/tensorflow/contrib/learn/python/learn/estimators/head.py:1362: scalar_summary (from tensorflow.python.ops.logging_ops) is deprecated and will be removed after 2016-11-30.\n",
      "Instructions for updating:\n",
      "Please switch to tf.summary.scalar. Note that tf.summary.scalar uses the node name instead of the tag. This means that TensorFlow will automatically de-duplicate summary names based on the scope they are created in. Also, passing a tensor or list of tags to a scalar summary op is no longer supported.\n",
      "INFO:tensorflow:Starting evaluation at 2017-03-28-07:59:42\n",
      "INFO:tensorflow:Evaluation [1/1]\n",
      "INFO:tensorflow:Finished evaluation at 2017-03-28-07:59:43\n",
      "INFO:tensorflow:Saving dict for global step 2000: accuracy = 0.933526, auc = 0.991921, global_step = 2000, loss = 0.178961\n",
      "WARNING:tensorflow:Skipping summary for global_step, must be a float or np.float32.\n"
     ]
    }
   ],
   "source": [
    "car_results = car_classifier.evaluate(input_fn=car_test_input_fn, steps=1)"
   ]
  },
  {
   "cell_type": "code",
   "execution_count": 353,
   "metadata": {
    "collapsed": false
   },
   "outputs": [
    {
     "data": {
      "text/plain": [
       "{'accuracy': 0.93352604,\n",
       " 'auc': 0.99192089,\n",
       " 'global_step': 2000,\n",
       " 'loss': 0.17896064}"
      ]
     },
     "execution_count": 353,
     "metadata": {},
     "output_type": "execute_result"
    }
   ],
   "source": [
    "car_results"
   ]
  },
  {
   "cell_type": "code",
   "execution_count": null,
   "metadata": {
    "collapsed": true
   },
   "outputs": [],
   "source": []
  }
 ],
 "metadata": {
  "kernelspec": {
   "display_name": "Python 2",
   "language": "python",
   "name": "python2"
  },
  "language_info": {
   "codemirror_mode": {
    "name": "ipython",
    "version": 2
   },
   "file_extension": ".py",
   "mimetype": "text/x-python",
   "name": "python",
   "nbconvert_exporter": "python",
   "pygments_lexer": "ipython2",
   "version": "2.7.11"
  }
 },
 "nbformat": 4,
 "nbformat_minor": 0
}
